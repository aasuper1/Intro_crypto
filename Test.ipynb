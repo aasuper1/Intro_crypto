{
 "cells": [
  {
   "cell_type": "code",
   "execution_count": null,
   "metadata": {},
   "outputs": [],
   "source": [
    "#visualize + keep track of infection, suspect and clean\n",
    "color_map = []\n",
    "#initialize\n",
    "infection_num = 0\n",
    "sus_num = 0\n",
    "clean_num = 0\n",
    "\n",
    "for i in range (len(ws_di)):\n",
    "    #see if neighbor infected\n",
    "    neighbors = [n for n in ws.neighbors(i)]\n",
    "    total_infected = 0\n",
    "    for j in neighbors:\n",
    "        if ws_di.get(j).infected == 1:\n",
    "            total_infected += 1  \n",
    "    if ws_di.get(i).infected == 1:\n",
    "        color_map.append('#ED553B') # red\n",
    "        infection_num += 1\n",
    "    elif total_infected > 0:\n",
    "        color_map.append('#F6D55C') #yellow\n",
    "        sus_num += 1\n",
    "    else: \n",
    "        color_map.append('#3CAEA3') # green \n",
    "        \n",
    "clean_num = len(ws_di) - infection_num - sus_num\n",
    "infection.append(infection_num)\n",
    "suspect.append(sus_num)\n",
    "clean.append(clean_num)\n",
    "\n",
    "nx.draw_kamada_kawai(ws, node_size=300,node_color=color_map, with_labels=True, alpha = 0.8)    \n",
    "p.step(ws,ws_di)"
   ]
  }
 ],
 "metadata": {
  "language_info": {
   "name": "python"
  },
  "orig_nbformat": 4
 },
 "nbformat": 4,
 "nbformat_minor": 2
}
